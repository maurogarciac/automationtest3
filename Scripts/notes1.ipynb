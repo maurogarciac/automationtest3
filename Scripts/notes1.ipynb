{
 "cells": [
  {
   "cell_type": "markdown",
   "metadata": {},
   "source": [
    "### List of things:\n",
    "\n",
    "#### what if its a string \n",
    "* for every char in the string\n",
    "* transform to binary and add to list\n",
    "* \n",
    "\n",
    "#### with that value:\n",
    "+ get bit representation of value\n",
    "+ format to remove 0b in the beggining\n",
    "+ take bit representation of char/int and assign to __y__ list\n",
    "+ add first 6 elements to ___x___ list in xy _matrix_\n",
    "+ remove those elements from __y__ list and keep only last ones\n",
    "+ are there 6 elements in __y__ list?\n",
    "+ iterate to next element   \n",
    "+ repeat\n",
    "\n",
    "---\n",
    "# PROBLEMS ARISE\n",
    "+ formatted pngs have chunks dedicated to data, which causes problems\n",
    "+ also, everything I typed before makes no sense, since the base64 already has those functions\n",
    "+ THERE FOR:\n",
    "  * what if I make a function that can find a matrix inside another matrix\n",
    "  * AND use the matrix returned by the png library's asDirect() function\n",
    "  * that would remove all previous problems, and create some new ones for me to solve"
   ]
  },
  {
   "cell_type": "code",
   "execution_count": 2,
   "metadata": {},
   "outputs": [
    {
     "data": {
      "text/plain": [
       "'0b1000011'"
      ]
     },
     "execution_count": 2,
     "metadata": {},
     "output_type": "execute_result"
    }
   ],
   "source": [
    "\"Without formatting:\"\n",
    "bin(67)"
   ]
  },
  {
   "cell_type": "code",
   "execution_count": 3,
   "metadata": {},
   "outputs": [
    {
     "data": {
      "text/plain": [
       "'1000011'"
      ]
     },
     "execution_count": 3,
     "metadata": {},
     "output_type": "execute_result"
    }
   ],
   "source": [
    "\"Formatted:\"\n",
    "bin(67)[2:]"
   ]
  },
  {
   "cell_type": "code",
   "execution_count": 4,
   "metadata": {},
   "outputs": [
    {
     "data": {
      "text/plain": [
       "'0b1100011'"
      ]
     },
     "execution_count": 4,
     "metadata": {},
     "output_type": "execute_result"
    }
   ],
   "source": [
    "bin(ord(\"c\"))\n"
   ]
  },
  {
   "cell_type": "code",
   "execution_count": 12,
   "metadata": {},
   "outputs": [
    {
     "name": "stdout",
     "output_type": "stream",
     "text": [
      "b'iVBORw0KGgoAAAANSUhEUgAAAA0AAAASCAYAAACAa1QyAAAAAXNSR0IArs4c6QAAAARnQU1BAACxjwv8YQUAAAAJcEhZcwAADsMAAA7DAcdvqGQAAAFPSURBVDhPfZLBjYNADEUHSAPUwClXONAB6SAHKqCFVAAVJB1EKSAN0AAHjnDKMUjpINGEZ629k13tWjI2f/732DMTPZ9PH0WR8947TPOfmBpY/JV/LGAq1DwsEIcL5JfLxZVl6TabjUuSxNV17cZxlDUT097r9fLEtm0p59M09YfDwVdVZf/zPAsHruOjziKkvu+FgO/3e8G6rrPiMlPYM7bdbm2ePM8lfpiqcVpaId80jV+WxU/T5LMsE2wYBuN9iMgRQAr9er0aR0Sh4Hw+C4nqHIoW4J9d4eAm4nQgcBi0ph2cTifBd7vd7510F45ZMau84rgWksvFb7fbin+/DI2Px0MiZiesVTkdcNq73+9W9Xg8Cs5ctrO2QdTB9UXoxeJcuIlUoJGbL4rCyAjDFwIv4qO9Mge5zvOXxUr6TwCuhYn29jAVhCQsLOqcc2+B7dKkk4TbRQAAAABJRU5ErkJggg=='\n"
     ]
    }
   ],
   "source": [
    "import base64\n",
    "def b64_test(input_b64):\n",
    "    with open(input_b64, \"rb\") as image_file:\n",
    "        input_b64 = base64.b64encode(image_file.read())\n",
    "    return input_b64\n",
    "\n",
    "print(b64_test(\"eight.png\"))"
   ]
  },
  {
   "cell_type": "code",
   "execution_count": 2,
   "metadata": {},
   "outputs": [
    {
     "name": "stdout",
     "output_type": "stream",
     "text": [
      "not in there\n"
     ]
    }
   ],
   "source": [
    "import base64\n",
    "def b64_test(input_b64):\n",
    "    with open(input_b64, \"rb\") as image_file:\n",
    "        input_b64 = base64.b64encode(image_file.read())\n",
    "    return input_b64\n",
    "image1 = b64_test(\"image1.png\")\n",
    "image2 = b64_test(\"image2.png\")\n",
    "if image2 in image1:\n",
    "\n",
    "    print(\"is in\", image1, image2)\n",
    "else:\n",
    "    print(\"not in there\")"
   ]
  },
  {
   "cell_type": "code",
   "execution_count": 6,
   "metadata": {},
   "outputs": [
    {
     "name": "stdout",
     "output_type": "stream",
     "text": [
      "<bound method Image.getdata of <PIL.PngImagePlugin.PngImageFile image mode=RGBA size=189x182 at 0x1F40503ECB0>>\n",
      "<bound method Image.tobytes of <PIL.PngImagePlugin.PngImageFile image mode=RGBA size=189x182 at 0x1F40503ECB0>>\n"
     ]
    }
   ],
   "source": [
    "from PIL import Image\n",
    " \n",
    "image1 = Image.open(\"image1.png\")\n",
    "#what if i could print their png data\n",
    "\n",
    "print(image1.getdata)\n",
    "print(image1.tobytes)"
   ]
  },
  {
   "cell_type": "code",
   "execution_count": 9,
   "metadata": {},
   "outputs": [
    {
     "name": "stdout",
     "output_type": "stream",
     "text": [
      "189, 182\n",
      "0\n",
      "1\n",
      "2\n",
      "3\n",
      "4\n",
      "5\n",
      "6\n",
      "7\n",
      "8\n",
      "9\n",
      "10\n",
      "11\n",
      "12\n",
      "13\n",
      "14\n",
      "15\n",
      "16\n",
      "17\n",
      "18\n",
      "19\n",
      "20\n",
      "21\n",
      "22\n",
      "23\n",
      "24\n",
      "25\n",
      "26\n",
      "27\n",
      "28\n",
      "29\n",
      "30\n",
      "31\n",
      "32\n",
      "33\n",
      "34\n",
      "35\n",
      "36\n",
      "37\n",
      "38\n",
      "39\n",
      "40\n",
      "41\n",
      "42\n",
      "43\n",
      "44\n",
      "45\n",
      "46\n",
      "47\n",
      "48\n",
      "49\n",
      "50\n",
      "51\n",
      "52\n",
      "53\n",
      "54\n",
      "55\n",
      "56\n",
      "57\n",
      "58\n",
      "59\n",
      "60\n",
      "61\n",
      "62\n",
      "63\n",
      "64\n",
      "65\n",
      "66\n",
      "67\n",
      "68\n",
      "69\n",
      "70\n",
      "71\n",
      "72\n",
      "73\n",
      "74\n",
      "75\n",
      "76\n",
      "77\n",
      "78\n",
      "79\n",
      "80\n",
      "81\n",
      "82\n",
      "83\n",
      "84\n",
      "85\n",
      "86\n",
      "87\n",
      "88\n",
      "89\n",
      "90\n",
      "91\n",
      "92\n",
      "93\n",
      "94\n",
      "95\n",
      "96\n",
      "97\n",
      "98\n",
      "99\n",
      "100\n",
      "101\n",
      "102\n",
      "103\n",
      "104\n",
      "105\n",
      "106\n",
      "107\n",
      "108\n",
      "109\n",
      "110\n",
      "111\n",
      "112\n",
      "113\n",
      "114\n",
      "115\n",
      "116\n",
      "117\n",
      "118\n",
      "119\n",
      "120\n",
      "121\n",
      "122\n",
      "123\n",
      "124\n",
      "125\n",
      "126\n",
      "127\n",
      "128\n",
      "129\n",
      "130\n",
      "131\n",
      "132\n",
      "133\n",
      "134\n",
      "135\n",
      "136\n",
      "137\n",
      "138\n",
      "139\n",
      "140\n",
      "141\n",
      "142\n",
      "143\n",
      "144\n",
      "145\n",
      "146\n",
      "147\n",
      "148\n",
      "149\n",
      "150\n",
      "151\n",
      "152\n",
      "153\n",
      "154\n",
      "155\n",
      "156\n",
      "157\n",
      "158\n",
      "159\n",
      "160\n",
      "161\n",
      "162\n",
      "163\n",
      "164\n",
      "165\n",
      "166\n",
      "167\n",
      "168\n",
      "169\n",
      "170\n",
      "171\n",
      "172\n",
      "173\n",
      "174\n",
      "175\n",
      "176\n",
      "177\n",
      "178\n",
      "179\n",
      "180\n",
      "181\n"
     ]
    }
   ],
   "source": [
    "import png\n",
    "\n",
    "image1 = png.Reader(\"image1.png\")\n",
    "img_matrix = []\n",
    "img_details = {}\n",
    "img_height,img_width,img_matrix,img_details = image1.asDirect()\n",
    "print(f\"{img_height}, {img_width}\")\n",
    "for index,item in enumerate(img_matrix):\n",
    "    print(f\"{index}\")\n",
    "\n",
    "    "
   ]
  },
  {
   "cell_type": "code",
   "execution_count": null,
   "metadata": {},
   "outputs": [],
   "source": []
  }
 ],
 "metadata": {
  "interpreter": {
   "hash": "6ad9c8f18d937befb61c58a3af842e6b8bfe32cad9d4e06cc43e05859a6ae5d8"
  },
  "kernelspec": {
   "display_name": "Python 3.10.4 ('testenv2': venv)",
   "language": "python",
   "name": "python3"
  },
  "language_info": {
   "codemirror_mode": {
    "name": "ipython",
    "version": 3
   },
   "file_extension": ".py",
   "mimetype": "text/x-python",
   "name": "python",
   "nbconvert_exporter": "python",
   "pygments_lexer": "ipython3",
   "version": "3.10.4"
  },
  "orig_nbformat": 4
 },
 "nbformat": 4,
 "nbformat_minor": 2
}
